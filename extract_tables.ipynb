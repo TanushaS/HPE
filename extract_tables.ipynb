{
 "cells": [
  {
   "cell_type": "code",
   "execution_count": 7,
   "metadata": {},
   "outputs": [],
   "source": [
    "#Extracting tabular data from .pdf to .txt file\n",
    "import PyPDF2\n",
    "import numpy"
   ]
  },
  {
   "cell_type": "code",
   "execution_count": 8,
   "metadata": {},
   "outputs": [],
   "source": [
    "#Function to extract data from .pdf to .txt file \n",
    "def extract(file_name):\n",
    "    read_pdf = PyPDF2.PdfFileReader(file_name)\n",
    "    number_of_pages = read_pdf.getNumPages()\n",
    "    page_content=''\n",
    "    #Extracting Data pagewise\n",
    "    for i in range(number_of_pages):\n",
    "        page = read_pdf.getPage(i)\n",
    "        page_content=page_content+page.extractText()\n",
    "    table_list = page_content.split('\\n')\n",
    "    l = numpy.array_split(table_list, len(table_list)/4)\n",
    "    #Saving the extracted data in a .txt file\n",
    "    numpy.savetxt(\"tab1.txt\", l, fmt=\"%s\")"
   ]
  },
  {
   "cell_type": "code",
   "execution_count": 11,
   "metadata": {},
   "outputs": [
    {
     "name": "stdout",
     "output_type": "stream",
     "text": [
      "Enter the file nameFood.pdf\n"
     ]
    }
   ],
   "source": [
    "file_name=input(\"Enter the file name\")\n",
    "extract(file_name)"
   ]
  },
  {
   "cell_type": "code",
   "execution_count": null,
   "metadata": {},
   "outputs": [],
   "source": []
  }
 ],
 "metadata": {
  "kernelspec": {
   "display_name": "Python 3.6(tensorflow)",
   "language": "python",
   "name": "tensorflow"
  },
  "language_info": {
   "codemirror_mode": {
    "name": "ipython",
    "version": 3
   },
   "file_extension": ".py",
   "mimetype": "text/x-python",
   "name": "python",
   "nbconvert_exporter": "python",
   "pygments_lexer": "ipython3",
   "version": "3.6.9"
  }
 },
 "nbformat": 4,
 "nbformat_minor": 2
}
