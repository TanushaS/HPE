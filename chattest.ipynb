{
 "cells": [
  {
   "cell_type": "code",
   "execution_count": 1,
   "metadata": {},
   "outputs": [],
   "source": [
    "import csv"
   ]
  },
  {
   "cell_type": "code",
   "execution_count": 6,
   "metadata": {},
   "outputs": [],
   "source": [
    "dic={}\n",
    "with open('test.csv',encoding='utf8') as csv_file:\n",
    "    content=csv.DictReader(csv_file)\n",
    "    for i in content:\n",
    "       # print(i['WORDS'],i['VERSION'])\n",
    "         dic[i['WORDS']]=i['VERSION']"
   ]
  },
  {
   "cell_type": "code",
   "execution_count": 7,
   "metadata": {},
   "outputs": [
    {
     "data": {
      "text/plain": [
       "{'python': '3',\n",
       " 'SMTP': '2',\n",
       " 'FTP': '2',\n",
       " 'ML': '1',\n",
       " 'AI': '4',\n",
       " 'NLP': '2',\n",
       " 'Blockchain': '3',\n",
       " 'IOT': '4',\n",
       " 'Cloud computing': '2',\n",
       " 'Cyber Security': '1'}"
      ]
     },
     "execution_count": 7,
     "metadata": {},
     "output_type": "execute_result"
    }
   ],
   "source": [
    "dic"
   ]
  },
  {
   "cell_type": "code",
   "execution_count": null,
   "metadata": {},
   "outputs": [],
   "source": []
  },
  {
   "cell_type": "code",
   "execution_count": null,
   "metadata": {},
   "outputs": [],
   "source": []
  },
  {
   "cell_type": "code",
   "execution_count": null,
   "metadata": {},
   "outputs": [],
   "source": []
  },
  {
   "cell_type": "code",
   "execution_count": 2,
   "metadata": {},
   "outputs": [],
   "source": [
    "from nltk.chat.util import Chat,reflections"
   ]
  },
  {
   "cell_type": "code",
   "execution_count": 3,
   "metadata": {},
   "outputs": [],
   "source": [
    "pairs=[['what technology is used',[' python','aurba']],\n",
    "      ['is any technology used',['yes']],\n",
    "      ['which python version is used',['3.7']]]"
   ]
  },
  {
   "cell_type": "code",
   "execution_count": 4,
   "metadata": {},
   "outputs": [],
   "source": [
    "chat=Chat(pairs,reflections)"
   ]
  },
  {
   "cell_type": "code",
   "execution_count": 5,
   "metadata": {},
   "outputs": [
    {
     "data": {
      "text/plain": [
       "{'i am': 'you are',\n",
       " 'i was': 'you were',\n",
       " 'i': 'you',\n",
       " \"i'm\": 'you are',\n",
       " \"i'd\": 'you would',\n",
       " \"i've\": 'you have',\n",
       " \"i'll\": 'you will',\n",
       " 'my': 'your',\n",
       " 'you are': 'I am',\n",
       " 'you were': 'I was',\n",
       " \"you've\": 'I have',\n",
       " \"you'll\": 'I will',\n",
       " 'your': 'my',\n",
       " 'yours': 'mine',\n",
       " 'you': 'me',\n",
       " 'me': 'you'}"
      ]
     },
     "execution_count": 5,
     "metadata": {},
     "output_type": "execute_result"
    }
   ],
   "source": [
    "reflections"
   ]
  },
  {
   "cell_type": "code",
   "execution_count": null,
   "metadata": {},
   "outputs": [
    {
     "name": "stdout",
     "output_type": "stream",
     "text": [
      "> i am\n",
      "None\n",
      ">which python version is used\n",
      "3.7\n",
      ">what technology is used\n",
      " python\n",
      ">what technology is used\n",
      "aurba\n",
      ">is technology used\n",
      "None\n",
      ">is any technology used\n",
      "yes\n"
     ]
    }
   ],
   "source": [
    "chat.converse()"
   ]
  },
  {
   "cell_type": "code",
   "execution_count": null,
   "metadata": {},
   "outputs": [],
   "source": []
  }
 ],
 "metadata": {
  "kernelspec": {
   "display_name": "Python 3.6(tensorflow)",
   "language": "python",
   "name": "tensorflow"
  },
  "language_info": {
   "codemirror_mode": {
    "name": "ipython",
    "version": 3
   },
   "file_extension": ".py",
   "mimetype": "text/x-python",
   "name": "python",
   "nbconvert_exporter": "python",
   "pygments_lexer": "ipython3",
   "version": "3.6.9"
  }
 },
 "nbformat": 4,
 "nbformat_minor": 2
}
