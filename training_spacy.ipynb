{
 "cells": [
  {
   "cell_type": "code",
   "execution_count": 1,
   "metadata": {},
   "outputs": [],
   "source": [
    "from __future__ import unicode_literals, print_function\n",
    "\n",
    "import plac #  wrapper over argparse\n",
    "import random\n",
    "from pathlib import Path\n",
    "import spacy\n",
    "from tqdm import tqdm # loading bar"
   ]
  },
  {
   "cell_type": "code",
   "execution_count": 3,
   "metadata": {},
   "outputs": [],
   "source": [
    "nlp=spacy.load(\"en_core_web_sm\")#load english library"
   ]
  },
  {
   "cell_type": "code",
   "execution_count": 42,
   "metadata": {},
   "outputs": [],
   "source": [
    "TRAIN_DATA = [\n",
    "    (\"These updates include AntiVirus version updates.\", {\n",
    "        'entities': [(22, 31, 'TECHNOLOGY')]\n",
    "    }),\n",
    "\n",
    "    (\"The ClearPassserver uses these updates to check.\", {\n",
    "        'entities': [(4,19,'SERVER')]\n",
    "    }),\n",
    "    \n",
    "    (\"AntiVirus performs following actions.\", {\n",
    "        'entities': [(0,9,'TECHNOLOGY')]\n",
    "    }),\n",
    "    \n",
    "    (\"ClearPassserver performs following operation.\", {\n",
    "        'entities': [(0, 15, 'SERVER')]\n",
    "    }),\n",
    "\n",
    "    (\"Contacts the Webserviceserver to download the latest Posture\", {\n",
    "        'entities': [(13, 29, 'SERVER')]\n",
    "    }),\n",
    "\n",
    "    (\"Contacts the Webservice server to download the latest Posture\", {\n",
    "        'entities': [(48, 54, 'SERVER')]\n",
    "    }),\n",
    "\n",
    "    (\"for supported Windows operating systems\", {\n",
    "        'entities': [(14, 21, 'OS')]\n",
    "    }),\n",
    "    \n",
    "    (\"I use Windows operating systems\", {\n",
    "        'entities': [(6, 13, 'OS')]\n",
    "    }),\n",
    "    \n",
    "    (\"SNMP parameters can be used here.\", {\n",
    "        'entities': [(0, 4, 'PROTOCOL')]\n",
    "    }),\n",
    "    \n",
    "    (\"This allows to configure SNMP parameters\", {\n",
    "        'entities': [(25, 29, 'PROTOCOL')]\n",
    "    }),\n",
    "     \n",
    "]"
   ]
  },
  {
   "cell_type": "code",
   "execution_count": 43,
   "metadata": {},
   "outputs": [],
   "source": [
    "model = None\n",
    "output_dir=Path(\"C:/Users/Admin/Desktop/HPE/TEST\")\n",
    "n_iter=100"
   ]
  },
  {
   "cell_type": "code",
   "execution_count": 44,
   "metadata": {},
   "outputs": [
    {
     "name": "stdout",
     "output_type": "stream",
     "text": [
      "Created blank 'en' model\n"
     ]
    }
   ],
   "source": [
    "if model is not None:\n",
    "    nlp = spacy.load(model)  # load existing spaCy model\n",
    "    print(\"Loaded model '%s'\" % model)\n",
    "else:\n",
    "    nlp = spacy.blank('en')  # create blank Language class\n",
    "    print(\"Created blank 'en' model\")"
   ]
  },
  {
   "cell_type": "code",
   "execution_count": 45,
   "metadata": {},
   "outputs": [],
   "source": [
    "# create the built-in pipeline components and add them to the pipeline\n",
    "    # nlp.create_pipe works for built-ins that are registered with spaCy\n",
    "if 'ner' not in nlp.pipe_names:\n",
    "    ner = nlp.create_pipe('ner')\n",
    "    nlp.add_pipe(ner, last=True)\n",
    "# otherwise, get it so we can add labels\n",
    "else:\n",
    "    ner = nlp.get_pipe('ner')"
   ]
  },
  {
   "cell_type": "code",
   "execution_count": 46,
   "metadata": {},
   "outputs": [
    {
     "name": "stderr",
     "output_type": "stream",
     "text": [
      "100%|██████████████████████████████████████████| 10/10 [00:01<00:00,  8.35it/s]\n",
      " 10%|████▎                                      | 1/10 [00:00<00:01,  8.00it/s]"
     ]
    },
    {
     "name": "stdout",
     "output_type": "stream",
     "text": [
      "{'ner': 57.04527881741524}\n"
     ]
    },
    {
     "name": "stderr",
     "output_type": "stream",
     "text": [
      "100%|██████████████████████████████████████████| 10/10 [00:01<00:00,  8.27it/s]\n",
      " 10%|████▎                                      | 1/10 [00:00<00:01,  7.37it/s]"
     ]
    },
    {
     "name": "stdout",
     "output_type": "stream",
     "text": [
      "{'ner': 37.57523565366864}\n"
     ]
    },
    {
     "name": "stderr",
     "output_type": "stream",
     "text": [
      "100%|██████████████████████████████████████████| 10/10 [00:01<00:00,  8.32it/s]\n",
      " 10%|████▎                                      | 1/10 [00:00<00:00,  9.98it/s]"
     ]
    },
    {
     "name": "stdout",
     "output_type": "stream",
     "text": [
      "{'ner': 20.211178698009462}\n"
     ]
    },
    {
     "name": "stderr",
     "output_type": "stream",
     "text": [
      "100%|██████████████████████████████████████████| 10/10 [00:01<00:00,  8.55it/s]\n",
      " 10%|████▎                                      | 1/10 [00:00<00:01,  8.00it/s]"
     ]
    },
    {
     "name": "stdout",
     "output_type": "stream",
     "text": [
      "{'ner': 15.906768544040936}\n"
     ]
    },
    {
     "name": "stderr",
     "output_type": "stream",
     "text": [
      "100%|██████████████████████████████████████████| 10/10 [00:01<00:00,  8.53it/s]\n",
      "  0%|                                                   | 0/10 [00:00<?, ?it/s]"
     ]
    },
    {
     "name": "stdout",
     "output_type": "stream",
     "text": [
      "{'ner': 16.264832348456785}\n"
     ]
    },
    {
     "name": "stderr",
     "output_type": "stream",
     "text": [
      "100%|██████████████████████████████████████████| 10/10 [00:01<00:00,  8.29it/s]\n",
      " 10%|████▎                                      | 1/10 [00:00<00:01,  7.11it/s]"
     ]
    },
    {
     "name": "stdout",
     "output_type": "stream",
     "text": [
      "{'ner': 13.768843946355446}\n"
     ]
    },
    {
     "name": "stderr",
     "output_type": "stream",
     "text": [
      "100%|██████████████████████████████████████████| 10/10 [00:01<00:00,  8.49it/s]\n",
      " 10%|████▎                                      | 1/10 [00:00<00:01,  8.22it/s]"
     ]
    },
    {
     "name": "stdout",
     "output_type": "stream",
     "text": [
      "{'ner': 13.870546792305355}\n"
     ]
    },
    {
     "name": "stderr",
     "output_type": "stream",
     "text": [
      "100%|██████████████████████████████████████████| 10/10 [00:01<00:00,  8.94it/s]\n",
      " 10%|████▎                                      | 1/10 [00:00<00:00,  9.67it/s]"
     ]
    },
    {
     "name": "stdout",
     "output_type": "stream",
     "text": [
      "{'ner': 11.599662854957051}\n"
     ]
    },
    {
     "name": "stderr",
     "output_type": "stream",
     "text": [
      "100%|██████████████████████████████████████████| 10/10 [00:01<00:00,  8.81it/s]\n",
      " 10%|████▎                                      | 1/10 [00:00<00:00,  9.14it/s]"
     ]
    },
    {
     "name": "stdout",
     "output_type": "stream",
     "text": [
      "{'ner': 10.94596834217403}\n"
     ]
    },
    {
     "name": "stderr",
     "output_type": "stream",
     "text": [
      "100%|██████████████████████████████████████████| 10/10 [00:01<00:00,  8.94it/s]\n",
      " 10%|████▎                                      | 1/10 [00:00<00:00,  9.14it/s]"
     ]
    },
    {
     "name": "stdout",
     "output_type": "stream",
     "text": [
      "{'ner': 11.293851059568764}\n"
     ]
    },
    {
     "name": "stderr",
     "output_type": "stream",
     "text": [
      "100%|██████████████████████████████████████████| 10/10 [00:01<00:00,  8.89it/s]\n",
      " 10%|████▎                                      | 1/10 [00:00<00:00,  9.14it/s]"
     ]
    },
    {
     "name": "stdout",
     "output_type": "stream",
     "text": [
      "{'ner': 8.257296047656478}\n"
     ]
    },
    {
     "name": "stderr",
     "output_type": "stream",
     "text": [
      "100%|██████████████████████████████████████████| 10/10 [00:01<00:00,  9.03it/s]\n",
      " 10%|████▎                                      | 1/10 [00:00<00:01,  8.00it/s]"
     ]
    },
    {
     "name": "stdout",
     "output_type": "stream",
     "text": [
      "{'ner': 6.547571374745527}\n"
     ]
    },
    {
     "name": "stderr",
     "output_type": "stream",
     "text": [
      "100%|██████████████████████████████████████████| 10/10 [00:01<00:00,  9.01it/s]\n",
      " 10%|████▎                                      | 1/10 [00:00<00:01,  8.00it/s]"
     ]
    },
    {
     "name": "stdout",
     "output_type": "stream",
     "text": [
      "{'ner': 6.273921951557443}\n"
     ]
    },
    {
     "name": "stderr",
     "output_type": "stream",
     "text": [
      "100%|██████████████████████████████████████████| 10/10 [00:01<00:00,  8.32it/s]\n",
      " 10%|████▎                                      | 1/10 [00:00<00:01,  7.03it/s]"
     ]
    },
    {
     "name": "stdout",
     "output_type": "stream",
     "text": [
      "{'ner': 5.077602318346171}\n"
     ]
    },
    {
     "name": "stderr",
     "output_type": "stream",
     "text": [
      "100%|██████████████████████████████████████████| 10/10 [00:01<00:00,  8.30it/s]\n",
      " 10%|████▎                                      | 1/10 [00:00<00:01,  7.51it/s]"
     ]
    },
    {
     "name": "stdout",
     "output_type": "stream",
     "text": [
      "{'ner': 6.269508191972125}\n"
     ]
    },
    {
     "name": "stderr",
     "output_type": "stream",
     "text": [
      "100%|██████████████████████████████████████████| 10/10 [00:01<00:00,  8.24it/s]\n",
      " 10%|████▎                                      | 1/10 [00:00<00:01,  8.12it/s]"
     ]
    },
    {
     "name": "stdout",
     "output_type": "stream",
     "text": [
      "{'ner': 3.9953437758185717}\n"
     ]
    },
    {
     "name": "stderr",
     "output_type": "stream",
     "text": [
      "100%|██████████████████████████████████████████| 10/10 [00:01<00:00,  8.49it/s]\n",
      " 10%|████▎                                      | 1/10 [00:00<00:01,  8.40it/s]"
     ]
    },
    {
     "name": "stdout",
     "output_type": "stream",
     "text": [
      "{'ner': 3.005838690987838}\n"
     ]
    },
    {
     "name": "stderr",
     "output_type": "stream",
     "text": [
      "100%|██████████████████████████████████████████| 10/10 [00:01<00:00,  8.22it/s]\n",
      " 10%|████▎                                      | 1/10 [00:00<00:01,  7.75it/s]"
     ]
    },
    {
     "name": "stdout",
     "output_type": "stream",
     "text": [
      "{'ner': 4.2719889215673}\n"
     ]
    },
    {
     "name": "stderr",
     "output_type": "stream",
     "text": [
      "100%|██████████████████████████████████████████| 10/10 [00:01<00:00,  8.40it/s]\n",
      " 10%|████▎                                      | 1/10 [00:00<00:01,  7.93it/s]"
     ]
    },
    {
     "name": "stdout",
     "output_type": "stream",
     "text": [
      "{'ner': 2.7744332370494806}\n"
     ]
    },
    {
     "name": "stderr",
     "output_type": "stream",
     "text": [
      "100%|██████████████████████████████████████████| 10/10 [00:01<00:00,  8.20it/s]\n",
      " 10%|████▎                                      | 1/10 [00:00<00:01,  8.54it/s]"
     ]
    },
    {
     "name": "stdout",
     "output_type": "stream",
     "text": [
      "{'ner': 1.6191032527970077}\n"
     ]
    },
    {
     "name": "stderr",
     "output_type": "stream",
     "text": [
      "100%|██████████████████████████████████████████| 10/10 [00:01<00:00,  8.41it/s]\n",
      " 10%|████▎                                      | 1/10 [00:00<00:01,  8.61it/s]"
     ]
    },
    {
     "name": "stdout",
     "output_type": "stream",
     "text": [
      "{'ner': 1.11578302520708}\n"
     ]
    },
    {
     "name": "stderr",
     "output_type": "stream",
     "text": [
      "100%|██████████████████████████████████████████| 10/10 [00:01<00:00,  8.35it/s]\n",
      " 10%|████▎                                      | 1/10 [00:00<00:01,  7.81it/s]"
     ]
    },
    {
     "name": "stdout",
     "output_type": "stream",
     "text": [
      "{'ner': 1.7010802986912155}\n"
     ]
    },
    {
     "name": "stderr",
     "output_type": "stream",
     "text": [
      "100%|██████████████████████████████████████████| 10/10 [00:01<00:00,  8.35it/s]\n",
      " 10%|████▎                                      | 1/10 [00:00<00:01,  6.62it/s]"
     ]
    },
    {
     "name": "stdout",
     "output_type": "stream",
     "text": [
      "{'ner': 1.6886432881590592}\n"
     ]
    },
    {
     "name": "stderr",
     "output_type": "stream",
     "text": [
      "100%|██████████████████████████████████████████| 10/10 [00:01<00:00,  8.02it/s]\n",
      " 10%|████▎                                      | 1/10 [00:00<00:01,  8.54it/s]"
     ]
    },
    {
     "name": "stdout",
     "output_type": "stream",
     "text": [
      "{'ner': 0.23549543629263425}\n"
     ]
    },
    {
     "name": "stderr",
     "output_type": "stream",
     "text": [
      "100%|██████████████████████████████████████████| 10/10 [00:01<00:00,  8.98it/s]\n",
      " 10%|████▎                                      | 1/10 [00:00<00:00,  9.52it/s]"
     ]
    },
    {
     "name": "stdout",
     "output_type": "stream",
     "text": [
      "{'ner': 2.5763793898615255}\n"
     ]
    },
    {
     "name": "stderr",
     "output_type": "stream",
     "text": [
      "100%|██████████████████████████████████████████| 10/10 [00:01<00:00,  9.14it/s]\n",
      " 10%|████▎                                      | 1/10 [00:00<00:01,  7.69it/s]"
     ]
    },
    {
     "name": "stdout",
     "output_type": "stream",
     "text": [
      "{'ner': 0.2737714764486746}\n"
     ]
    },
    {
     "name": "stderr",
     "output_type": "stream",
     "text": [
      "100%|██████████████████████████████████████████| 10/10 [00:01<00:00,  8.77it/s]\n",
      " 10%|████▎                                      | 1/10 [00:00<00:01,  8.40it/s]"
     ]
    },
    {
     "name": "stdout",
     "output_type": "stream",
     "text": [
      "{'ner': 0.017969387059004728}\n"
     ]
    },
    {
     "name": "stderr",
     "output_type": "stream",
     "text": [
      "100%|██████████████████████████████████████████| 10/10 [00:01<00:00,  9.04it/s]\n",
      " 10%|████▎                                      | 1/10 [00:00<00:00,  9.25it/s]"
     ]
    },
    {
     "name": "stdout",
     "output_type": "stream",
     "text": [
      "{'ner': 0.007511360506111059}\n"
     ]
    },
    {
     "name": "stderr",
     "output_type": "stream",
     "text": [
      "100%|██████████████████████████████████████████| 10/10 [00:01<00:00,  9.01it/s]\n",
      " 10%|████▎                                      | 1/10 [00:00<00:00,  9.14it/s]"
     ]
    },
    {
     "name": "stdout",
     "output_type": "stream",
     "text": [
      "{'ner': 0.023616508869999508}\n"
     ]
    },
    {
     "name": "stderr",
     "output_type": "stream",
     "text": [
      "100%|██████████████████████████████████████████| 10/10 [00:01<00:00,  8.53it/s]\n",
      " 10%|████▎                                      | 1/10 [00:00<00:00,  9.03it/s]"
     ]
    },
    {
     "name": "stdout",
     "output_type": "stream",
     "text": [
      "{'ner': 0.011964726318596979}\n"
     ]
    },
    {
     "name": "stderr",
     "output_type": "stream",
     "text": [
      "100%|██████████████████████████████████████████| 10/10 [00:01<00:00,  9.24it/s]\n",
      "  0%|                                                   | 0/10 [00:00<?, ?it/s]"
     ]
    },
    {
     "name": "stdout",
     "output_type": "stream",
     "text": [
      "{'ner': 0.0009987487452946958}\n"
     ]
    },
    {
     "name": "stderr",
     "output_type": "stream",
     "text": [
      "100%|██████████████████████████████████████████| 10/10 [00:01<00:00,  9.00it/s]\n",
      " 10%|████▎                                      | 1/10 [00:00<00:00,  9.14it/s]"
     ]
    },
    {
     "name": "stdout",
     "output_type": "stream",
     "text": [
      "{'ner': 0.0005995023219503155}\n"
     ]
    },
    {
     "name": "stderr",
     "output_type": "stream",
     "text": [
      "100%|██████████████████████████████████████████| 10/10 [00:01<00:00,  9.31it/s]\n",
      "  0%|                                                   | 0/10 [00:00<?, ?it/s]"
     ]
    },
    {
     "name": "stdout",
     "output_type": "stream",
     "text": [
      "{'ner': 0.002322721107896892}\n"
     ]
    },
    {
     "name": "stderr",
     "output_type": "stream",
     "text": [
      "100%|██████████████████████████████████████████| 10/10 [00:01<00:00,  9.23it/s]\n",
      " 10%|████▎                                      | 1/10 [00:00<00:00,  9.14it/s]"
     ]
    },
    {
     "name": "stdout",
     "output_type": "stream",
     "text": [
      "{'ner': 2.0087596019082583}\n"
     ]
    },
    {
     "name": "stderr",
     "output_type": "stream",
     "text": [
      "100%|██████████████████████████████████████████| 10/10 [00:01<00:00,  9.41it/s]\n",
      " 10%|████▎                                      | 1/10 [00:00<00:00,  9.14it/s]"
     ]
    },
    {
     "name": "stdout",
     "output_type": "stream",
     "text": [
      "{'ner': 0.8472920058303929}\n"
     ]
    },
    {
     "name": "stderr",
     "output_type": "stream",
     "text": [
      "100%|██████████████████████████████████████████| 10/10 [00:01<00:00,  9.29it/s]\n",
      " 10%|████▎                                      | 1/10 [00:00<00:00,  9.14it/s]"
     ]
    },
    {
     "name": "stdout",
     "output_type": "stream",
     "text": [
      "{'ner': 0.004996054416862801}\n"
     ]
    },
    {
     "name": "stderr",
     "output_type": "stream",
     "text": [
      "100%|██████████████████████████████████████████| 10/10 [00:01<00:00,  9.14it/s]\n",
      "  0%|                                                   | 0/10 [00:00<?, ?it/s]"
     ]
    },
    {
     "name": "stdout",
     "output_type": "stream",
     "text": [
      "{'ner': 0.18877288338034043}\n"
     ]
    },
    {
     "name": "stderr",
     "output_type": "stream",
     "text": [
      "100%|██████████████████████████████████████████| 10/10 [00:01<00:00,  9.30it/s]\n",
      " 10%|████▎                                      | 1/10 [00:00<00:00,  9.14it/s]"
     ]
    },
    {
     "name": "stdout",
     "output_type": "stream",
     "text": [
      "{'ner': 0.0001700205799705634}\n"
     ]
    },
    {
     "name": "stderr",
     "output_type": "stream",
     "text": [
      "100%|██████████████████████████████████████████| 10/10 [00:01<00:00,  9.16it/s]\n",
      " 10%|████▎                                      | 1/10 [00:00<00:01,  8.70it/s]"
     ]
    },
    {
     "name": "stdout",
     "output_type": "stream",
     "text": [
      "{'ner': 0.16059533258701814}\n"
     ]
    },
    {
     "name": "stderr",
     "output_type": "stream",
     "text": [
      "100%|██████████████████████████████████████████| 10/10 [00:01<00:00,  9.28it/s]\n",
      " 10%|████▎                                      | 1/10 [00:00<00:01,  8.40it/s]"
     ]
    },
    {
     "name": "stdout",
     "output_type": "stream",
     "text": [
      "{'ner': 5.981948777551267e-06}\n"
     ]
    },
    {
     "name": "stderr",
     "output_type": "stream",
     "text": [
      "100%|██████████████████████████████████████████| 10/10 [00:01<00:00,  9.09it/s]\n",
      " 10%|████▎                                      | 1/10 [00:00<00:00,  9.26it/s]"
     ]
    },
    {
     "name": "stdout",
     "output_type": "stream",
     "text": [
      "{'ner': 1.7961398497373293}\n"
     ]
    },
    {
     "name": "stderr",
     "output_type": "stream",
     "text": [
      "100%|██████████████████████████████████████████| 10/10 [00:01<00:00,  9.29it/s]\n",
      " 10%|████▎                                      | 1/10 [00:00<00:00,  9.14it/s]"
     ]
    },
    {
     "name": "stdout",
     "output_type": "stream",
     "text": [
      "{'ner': 0.00029017602219586196}\n"
     ]
    },
    {
     "name": "stderr",
     "output_type": "stream",
     "text": [
      "100%|██████████████████████████████████████████| 10/10 [00:01<00:00,  9.41it/s]\n",
      " 10%|████▎                                      | 1/10 [00:00<00:00,  9.14it/s]"
     ]
    },
    {
     "name": "stdout",
     "output_type": "stream",
     "text": [
      "{'ner': 0.31753840632999397}\n"
     ]
    },
    {
     "name": "stderr",
     "output_type": "stream",
     "text": [
      "100%|██████████████████████████████████████████| 10/10 [00:01<00:00,  8.96it/s]\n",
      " 10%|████▎                                      | 1/10 [00:00<00:00,  9.14it/s]"
     ]
    },
    {
     "name": "stdout",
     "output_type": "stream",
     "text": [
      "{'ner': 0.0023362099723186654}\n"
     ]
    },
    {
     "name": "stderr",
     "output_type": "stream",
     "text": [
      "100%|██████████████████████████████████████████| 10/10 [00:01<00:00,  9.25it/s]\n",
      " 10%|████▎                                      | 1/10 [00:00<00:00,  9.14it/s]"
     ]
    },
    {
     "name": "stdout",
     "output_type": "stream",
     "text": [
      "{'ner': 0.02462422907079258}\n"
     ]
    },
    {
     "name": "stderr",
     "output_type": "stream",
     "text": [
      "100%|██████████████████████████████████████████| 10/10 [00:01<00:00,  9.25it/s]\n",
      " 10%|████▎                                      | 1/10 [00:00<00:01,  5.82it/s]"
     ]
    },
    {
     "name": "stdout",
     "output_type": "stream",
     "text": [
      "{'ner': 0.003183431896744333}\n"
     ]
    },
    {
     "name": "stderr",
     "output_type": "stream",
     "text": [
      "100%|██████████████████████████████████████████| 10/10 [00:01<00:00,  8.70it/s]\n",
      " 10%|████▎                                      | 1/10 [00:00<00:01,  8.00it/s]"
     ]
    },
    {
     "name": "stdout",
     "output_type": "stream",
     "text": [
      "{'ner': 0.002492136488659811}\n"
     ]
    },
    {
     "name": "stderr",
     "output_type": "stream",
     "text": [
      "100%|██████████████████████████████████████████| 10/10 [00:01<00:00,  9.28it/s]\n",
      " 10%|████▎                                      | 1/10 [00:00<00:00,  9.14it/s]"
     ]
    },
    {
     "name": "stdout",
     "output_type": "stream",
     "text": [
      "{'ner': 0.0003970531417153187}\n"
     ]
    },
    {
     "name": "stderr",
     "output_type": "stream",
     "text": [
      "100%|██████████████████████████████████████████| 10/10 [00:01<00:00,  9.20it/s]\n",
      " 10%|████▎                                      | 1/10 [00:00<00:00,  9.14it/s]"
     ]
    },
    {
     "name": "stdout",
     "output_type": "stream",
     "text": [
      "{'ner': 2.4014434033454177e-05}\n"
     ]
    },
    {
     "name": "stderr",
     "output_type": "stream",
     "text": [
      "100%|██████████████████████████████████████████| 10/10 [00:01<00:00,  9.20it/s]\n",
      " 10%|████▎                                      | 1/10 [00:00<00:00,  9.24it/s]"
     ]
    },
    {
     "name": "stdout",
     "output_type": "stream",
     "text": [
      "{'ner': 1.0160268902200009e-08}\n"
     ]
    },
    {
     "name": "stderr",
     "output_type": "stream",
     "text": [
      "100%|██████████████████████████████████████████| 10/10 [00:01<00:00,  8.90it/s]\n",
      " 10%|████▎                                      | 1/10 [00:00<00:00,  9.14it/s]"
     ]
    },
    {
     "name": "stdout",
     "output_type": "stream",
     "text": [
      "{'ner': 1.755555781994721e-06}\n"
     ]
    },
    {
     "name": "stderr",
     "output_type": "stream",
     "text": [
      "100%|██████████████████████████████████████████| 10/10 [00:01<00:00,  8.39it/s]\n",
      " 10%|████▎                                      | 1/10 [00:00<00:00,  9.14it/s]"
     ]
    },
    {
     "name": "stdout",
     "output_type": "stream",
     "text": [
      "{'ner': 1.1707827706250197e-05}\n"
     ]
    },
    {
     "name": "stderr",
     "output_type": "stream",
     "text": [
      "100%|██████████████████████████████████████████| 10/10 [00:01<00:00,  9.11it/s]\n",
      " 10%|████▎                                      | 1/10 [00:00<00:00,  9.14it/s]"
     ]
    },
    {
     "name": "stdout",
     "output_type": "stream",
     "text": [
      "{'ner': 0.03639834594883118}\n"
     ]
    },
    {
     "name": "stderr",
     "output_type": "stream",
     "text": [
      "100%|██████████████████████████████████████████| 10/10 [00:01<00:00,  8.96it/s]\n",
      " 10%|████▎                                      | 1/10 [00:00<00:00,  9.14it/s]"
     ]
    },
    {
     "name": "stdout",
     "output_type": "stream",
     "text": [
      "{'ner': 4.2999067310116254e-05}\n"
     ]
    },
    {
     "name": "stderr",
     "output_type": "stream",
     "text": [
      "100%|██████████████████████████████████████████| 10/10 [00:01<00:00,  8.92it/s]\n",
      " 10%|████▎                                      | 1/10 [00:00<00:01,  8.00it/s]"
     ]
    },
    {
     "name": "stdout",
     "output_type": "stream",
     "text": [
      "{'ner': 0.00653401335667208}\n"
     ]
    },
    {
     "name": "stderr",
     "output_type": "stream",
     "text": [
      "100%|██████████████████████████████████████████| 10/10 [00:01<00:00,  8.51it/s]\n",
      " 10%|████▎                                      | 1/10 [00:00<00:01,  8.27it/s]"
     ]
    },
    {
     "name": "stdout",
     "output_type": "stream",
     "text": [
      "{'ner': 0.20657129176822972}\n"
     ]
    },
    {
     "name": "stderr",
     "output_type": "stream",
     "text": [
      "100%|██████████████████████████████████████████| 10/10 [00:01<00:00,  8.64it/s]\n",
      " 10%|████▎                                      | 1/10 [00:00<00:00,  9.14it/s]"
     ]
    },
    {
     "name": "stdout",
     "output_type": "stream",
     "text": [
      "{'ner': 5.702643835101298e-05}\n"
     ]
    },
    {
     "name": "stderr",
     "output_type": "stream",
     "text": [
      "100%|██████████████████████████████████████████| 10/10 [00:01<00:00,  7.85it/s]\n",
      " 10%|████▎                                      | 1/10 [00:00<00:01,  8.62it/s]"
     ]
    },
    {
     "name": "stdout",
     "output_type": "stream",
     "text": [
      "{'ner': 0.30111410630369595}\n"
     ]
    },
    {
     "name": "stderr",
     "output_type": "stream",
     "text": [
      "100%|██████████████████████████████████████████| 10/10 [00:01<00:00,  8.07it/s]\n",
      " 10%|████▎                                      | 1/10 [00:00<00:00,  9.14it/s]"
     ]
    },
    {
     "name": "stdout",
     "output_type": "stream",
     "text": [
      "{'ner': 4.7436814928720215e-06}\n"
     ]
    },
    {
     "name": "stderr",
     "output_type": "stream",
     "text": [
      "100%|██████████████████████████████████████████| 10/10 [00:01<00:00,  7.90it/s]\n",
      " 10%|████▎                                      | 1/10 [00:00<00:01,  7.32it/s]"
     ]
    },
    {
     "name": "stdout",
     "output_type": "stream",
     "text": [
      "{'ner': 1.1861410182659072e-05}\n"
     ]
    },
    {
     "name": "stderr",
     "output_type": "stream",
     "text": [
      "100%|██████████████████████████████████████████| 10/10 [00:01<00:00,  7.50it/s]\n",
      " 10%|████▎                                      | 1/10 [00:00<00:01,  7.11it/s]"
     ]
    },
    {
     "name": "stdout",
     "output_type": "stream",
     "text": [
      "{'ner': 0.09876203065819415}\n"
     ]
    },
    {
     "name": "stderr",
     "output_type": "stream",
     "text": [
      "100%|██████████████████████████████████████████| 10/10 [00:01<00:00,  7.49it/s]\n",
      " 10%|████▎                                      | 1/10 [00:00<00:01,  7.11it/s]"
     ]
    },
    {
     "name": "stdout",
     "output_type": "stream",
     "text": [
      "{'ner': 4.323447869844813e-08}\n"
     ]
    },
    {
     "name": "stderr",
     "output_type": "stream",
     "text": [
      "100%|██████████████████████████████████████████| 10/10 [00:01<00:00,  6.95it/s]\n",
      " 10%|████▎                                      | 1/10 [00:00<00:01,  7.56it/s]"
     ]
    },
    {
     "name": "stdout",
     "output_type": "stream",
     "text": [
      "{'ner': 0.020730455572638955}\n"
     ]
    },
    {
     "name": "stderr",
     "output_type": "stream",
     "text": [
      "100%|██████████████████████████████████████████| 10/10 [00:01<00:00,  6.78it/s]\n",
      " 10%|████▎                                      | 1/10 [00:00<00:01,  7.11it/s]"
     ]
    },
    {
     "name": "stdout",
     "output_type": "stream",
     "text": [
      "{'ner': 1.5344036854800087}\n"
     ]
    },
    {
     "name": "stderr",
     "output_type": "stream",
     "text": [
      "100%|██████████████████████████████████████████| 10/10 [00:01<00:00,  6.63it/s]\n",
      " 10%|████▎                                      | 1/10 [00:00<00:01,  7.11it/s]"
     ]
    },
    {
     "name": "stdout",
     "output_type": "stream",
     "text": [
      "{'ner': 0.00025611346203641686}\n"
     ]
    },
    {
     "name": "stderr",
     "output_type": "stream",
     "text": [
      "100%|██████████████████████████████████████████| 10/10 [00:01<00:00,  6.41it/s]\n",
      " 10%|████▎                                      | 1/10 [00:00<00:01,  5.82it/s]"
     ]
    },
    {
     "name": "stdout",
     "output_type": "stream",
     "text": [
      "{'ner': 6.803708492641757e-08}\n"
     ]
    },
    {
     "name": "stderr",
     "output_type": "stream",
     "text": [
      "100%|██████████████████████████████████████████| 10/10 [00:01<00:00,  5.82it/s]\n",
      " 10%|████▎                                      | 1/10 [00:00<00:01,  6.40it/s]"
     ]
    },
    {
     "name": "stdout",
     "output_type": "stream",
     "text": [
      "{'ner': 7.479548959117449e-05}\n"
     ]
    },
    {
     "name": "stderr",
     "output_type": "stream",
     "text": [
      "100%|██████████████████████████████████████████| 10/10 [00:01<00:00,  6.02it/s]\n",
      " 10%|████▎                                      | 1/10 [00:00<00:01,  5.68it/s]"
     ]
    },
    {
     "name": "stdout",
     "output_type": "stream",
     "text": [
      "{'ner': 0.00030191197766773554}\n"
     ]
    },
    {
     "name": "stderr",
     "output_type": "stream",
     "text": [
      "100%|██████████████████████████████████████████| 10/10 [00:01<00:00,  5.81it/s]\n",
      " 10%|████▎                                      | 1/10 [00:00<00:01,  5.73it/s]"
     ]
    },
    {
     "name": "stdout",
     "output_type": "stream",
     "text": [
      "{'ner': 1.291642023165788e-05}\n"
     ]
    },
    {
     "name": "stderr",
     "output_type": "stream",
     "text": [
      "100%|██████████████████████████████████████████| 10/10 [00:01<00:00,  5.83it/s]\n",
      " 10%|████▎                                      | 1/10 [00:00<00:01,  5.82it/s]"
     ]
    },
    {
     "name": "stdout",
     "output_type": "stream",
     "text": [
      "{'ner': 3.609465563999316e-08}\n"
     ]
    },
    {
     "name": "stderr",
     "output_type": "stream",
     "text": [
      "100%|██████████████████████████████████████████| 10/10 [00:01<00:00,  5.66it/s]\n",
      " 10%|████▎                                      | 1/10 [00:00<00:01,  5.82it/s]"
     ]
    },
    {
     "name": "stdout",
     "output_type": "stream",
     "text": [
      "{'ner': 9.783942744342346e-07}\n"
     ]
    },
    {
     "name": "stderr",
     "output_type": "stream",
     "text": [
      "100%|██████████████████████████████████████████| 10/10 [00:01<00:00,  5.68it/s]\n",
      " 10%|████▎                                      | 1/10 [00:00<00:01,  5.44it/s]"
     ]
    },
    {
     "name": "stdout",
     "output_type": "stream",
     "text": [
      "{'ner': 1.4252615382114132e-06}\n"
     ]
    },
    {
     "name": "stderr",
     "output_type": "stream",
     "text": [
      "100%|██████████████████████████████████████████| 10/10 [00:01<00:00,  5.63it/s]\n",
      "  0%|                                                   | 0/10 [00:00<?, ?it/s]"
     ]
    },
    {
     "name": "stdout",
     "output_type": "stream",
     "text": [
      "{'ner': 2.5490986570622197e-09}\n"
     ]
    },
    {
     "name": "stderr",
     "output_type": "stream",
     "text": [
      "100%|██████████████████████████████████████████| 10/10 [00:01<00:00,  5.64it/s]\n",
      " 10%|████▎                                      | 1/10 [00:00<00:01,  5.82it/s]"
     ]
    },
    {
     "name": "stdout",
     "output_type": "stream",
     "text": [
      "{'ner': 1.388718421996332e-05}\n"
     ]
    },
    {
     "name": "stderr",
     "output_type": "stream",
     "text": [
      "100%|██████████████████████████████████████████| 10/10 [00:01<00:00,  5.66it/s]\n",
      "  0%|                                                   | 0/10 [00:00<?, ?it/s]"
     ]
    },
    {
     "name": "stdout",
     "output_type": "stream",
     "text": [
      "{'ner': 0.004605648106056713}\n"
     ]
    },
    {
     "name": "stderr",
     "output_type": "stream",
     "text": [
      "100%|██████████████████████████████████████████| 10/10 [00:01<00:00,  5.64it/s]\n",
      " 10%|████▎                                      | 1/10 [00:00<00:01,  5.68it/s]"
     ]
    },
    {
     "name": "stdout",
     "output_type": "stream",
     "text": [
      "{'ner': 4.6924897889227325e-05}\n"
     ]
    },
    {
     "name": "stderr",
     "output_type": "stream",
     "text": [
      "100%|██████████████████████████████████████████| 10/10 [00:01<00:00,  5.78it/s]\n",
      " 10%|████▎                                      | 1/10 [00:00<00:01,  5.43it/s]"
     ]
    },
    {
     "name": "stdout",
     "output_type": "stream",
     "text": [
      "{'ner': 2.7292169924028267e-06}\n"
     ]
    },
    {
     "name": "stderr",
     "output_type": "stream",
     "text": [
      "100%|██████████████████████████████████████████| 10/10 [00:01<00:00,  5.68it/s]\n",
      " 10%|████▎                                      | 1/10 [00:00<00:01,  5.82it/s]"
     ]
    },
    {
     "name": "stdout",
     "output_type": "stream",
     "text": [
      "{'ner': 1.169067509681317e-07}\n"
     ]
    },
    {
     "name": "stderr",
     "output_type": "stream",
     "text": [
      "100%|██████████████████████████████████████████| 10/10 [00:01<00:00,  5.73it/s]\n",
      " 10%|████▎                                      | 1/10 [00:00<00:01,  5.82it/s]"
     ]
    },
    {
     "name": "stdout",
     "output_type": "stream",
     "text": [
      "{'ner': 1.0326876158066006e-05}\n"
     ]
    },
    {
     "name": "stderr",
     "output_type": "stream",
     "text": [
      "100%|██████████████████████████████████████████| 10/10 [00:01<00:00,  5.69it/s]\n",
      " 10%|████▎                                      | 1/10 [00:00<00:01,  5.82it/s]"
     ]
    },
    {
     "name": "stdout",
     "output_type": "stream",
     "text": [
      "{'ner': 2.3812159133483188e-07}\n"
     ]
    },
    {
     "name": "stderr",
     "output_type": "stream",
     "text": [
      "100%|██████████████████████████████████████████| 10/10 [00:01<00:00,  5.77it/s]\n",
      " 10%|████▎                                      | 1/10 [00:00<00:01,  5.33it/s]"
     ]
    },
    {
     "name": "stdout",
     "output_type": "stream",
     "text": [
      "{'ner': 1.911058073482114e-05}\n"
     ]
    },
    {
     "name": "stderr",
     "output_type": "stream",
     "text": [
      "100%|██████████████████████████████████████████| 10/10 [00:01<00:00,  5.65it/s]\n",
      " 10%|████▎                                      | 1/10 [00:00<00:01,  5.82it/s]"
     ]
    },
    {
     "name": "stdout",
     "output_type": "stream",
     "text": [
      "{'ner': 4.179832759605241e-08}\n"
     ]
    },
    {
     "name": "stderr",
     "output_type": "stream",
     "text": [
      "100%|██████████████████████████████████████████| 10/10 [00:01<00:00,  5.80it/s]\n",
      " 10%|████▎                                      | 1/10 [00:00<00:01,  5.82it/s]"
     ]
    },
    {
     "name": "stdout",
     "output_type": "stream",
     "text": [
      "{'ner': 2.3338918184630066e-05}\n"
     ]
    },
    {
     "name": "stderr",
     "output_type": "stream",
     "text": [
      "100%|██████████████████████████████████████████| 10/10 [00:01<00:00,  5.81it/s]\n",
      " 10%|████▎                                      | 1/10 [00:00<00:01,  6.34it/s]"
     ]
    },
    {
     "name": "stdout",
     "output_type": "stream",
     "text": [
      "{'ner': 3.930538604515993e-08}\n"
     ]
    },
    {
     "name": "stderr",
     "output_type": "stream",
     "text": [
      "100%|██████████████████████████████████████████| 10/10 [00:01<00:00,  6.00it/s]\n",
      " 10%|████▎                                      | 1/10 [00:00<00:01,  5.88it/s]"
     ]
    },
    {
     "name": "stdout",
     "output_type": "stream",
     "text": [
      "{'ner': 0.00019780388890589944}\n"
     ]
    },
    {
     "name": "stderr",
     "output_type": "stream",
     "text": [
      "100%|██████████████████████████████████████████| 10/10 [00:01<00:00,  5.82it/s]\n",
      " 10%|████▎                                      | 1/10 [00:00<00:01,  5.82it/s]"
     ]
    },
    {
     "name": "stdout",
     "output_type": "stream",
     "text": [
      "{'ner': 0.002528710599179567}\n"
     ]
    },
    {
     "name": "stderr",
     "output_type": "stream",
     "text": [
      "100%|██████████████████████████████████████████| 10/10 [00:01<00:00,  6.11it/s]\n",
      " 10%|████▎                                      | 1/10 [00:00<00:01,  5.82it/s]"
     ]
    },
    {
     "name": "stdout",
     "output_type": "stream",
     "text": [
      "{'ner': 1.9374587004525894e-05}\n"
     ]
    },
    {
     "name": "stderr",
     "output_type": "stream",
     "text": [
      "100%|██████████████████████████████████████████| 10/10 [00:01<00:00,  6.09it/s]\n",
      " 10%|████▎                                      | 1/10 [00:00<00:01,  5.68it/s]"
     ]
    },
    {
     "name": "stdout",
     "output_type": "stream",
     "text": [
      "{'ner': 4.296143467571639e-08}\n"
     ]
    },
    {
     "name": "stderr",
     "output_type": "stream",
     "text": [
      "100%|██████████████████████████████████████████| 10/10 [00:01<00:00,  6.21it/s]\n",
      " 10%|████▎                                      | 1/10 [00:00<00:01,  5.82it/s]"
     ]
    },
    {
     "name": "stdout",
     "output_type": "stream",
     "text": [
      "{'ner': 2.9070297919599314e-05}\n"
     ]
    },
    {
     "name": "stderr",
     "output_type": "stream",
     "text": [
      "100%|██████████████████████████████████████████| 10/10 [00:01<00:00,  6.23it/s]\n",
      "  0%|                                                   | 0/10 [00:00<?, ?it/s]"
     ]
    },
    {
     "name": "stdout",
     "output_type": "stream",
     "text": [
      "{'ner': 2.5831910991980362e-05}\n"
     ]
    },
    {
     "name": "stderr",
     "output_type": "stream",
     "text": [
      "100%|██████████████████████████████████████████| 10/10 [00:01<00:00,  6.46it/s]\n",
      " 10%|████▎                                      | 1/10 [00:00<00:01,  5.82it/s]"
     ]
    },
    {
     "name": "stdout",
     "output_type": "stream",
     "text": [
      "{'ner': 0.00016716936519489028}\n"
     ]
    },
    {
     "name": "stderr",
     "output_type": "stream",
     "text": [
      "100%|██████████████████████████████████████████| 10/10 [00:01<00:00,  6.42it/s]\n",
      " 10%|████▎                                      | 1/10 [00:00<00:01,  5.33it/s]"
     ]
    },
    {
     "name": "stdout",
     "output_type": "stream",
     "text": [
      "{'ner': 1.2792688451039942e-06}\n"
     ]
    },
    {
     "name": "stderr",
     "output_type": "stream",
     "text": [
      "100%|██████████████████████████████████████████| 10/10 [00:01<00:00,  6.34it/s]\n",
      " 10%|████▎                                      | 1/10 [00:00<00:01,  6.40it/s]"
     ]
    },
    {
     "name": "stdout",
     "output_type": "stream",
     "text": [
      "{'ner': 0.0031884369589962477}\n"
     ]
    },
    {
     "name": "stderr",
     "output_type": "stream",
     "text": [
      "100%|██████████████████████████████████████████| 10/10 [00:01<00:00,  6.47it/s]\n",
      " 10%|████▎                                      | 1/10 [00:00<00:01,  6.85it/s]"
     ]
    },
    {
     "name": "stdout",
     "output_type": "stream",
     "text": [
      "{'ner': 0.10982656037782691}\n"
     ]
    },
    {
     "name": "stderr",
     "output_type": "stream",
     "text": [
      "100%|██████████████████████████████████████████| 10/10 [00:01<00:00,  6.50it/s]\n",
      " 10%|████▎                                      | 1/10 [00:00<00:01,  6.82it/s]"
     ]
    },
    {
     "name": "stdout",
     "output_type": "stream",
     "text": [
      "{'ner': 0.9058608411484798}\n"
     ]
    },
    {
     "name": "stderr",
     "output_type": "stream",
     "text": [
      "100%|██████████████████████████████████████████| 10/10 [00:01<00:00,  6.71it/s]\n",
      " 10%|████▎                                      | 1/10 [00:00<00:01,  5.82it/s]"
     ]
    },
    {
     "name": "stdout",
     "output_type": "stream",
     "text": [
      "{'ner': 1.1831683007297805e-06}\n"
     ]
    },
    {
     "name": "stderr",
     "output_type": "stream",
     "text": [
      "100%|██████████████████████████████████████████| 10/10 [00:01<00:00,  6.49it/s]\n",
      " 10%|████▎                                      | 1/10 [00:00<00:01,  5.81it/s]"
     ]
    },
    {
     "name": "stdout",
     "output_type": "stream",
     "text": [
      "{'ner': 2.552630258824782e-07}\n"
     ]
    },
    {
     "name": "stderr",
     "output_type": "stream",
     "text": [
      "100%|██████████████████████████████████████████| 10/10 [00:01<00:00,  6.60it/s]\n",
      " 10%|████▎                                      | 1/10 [00:00<00:01,  6.40it/s]"
     ]
    },
    {
     "name": "stdout",
     "output_type": "stream",
     "text": [
      "{'ner': 5.092975421199822e-05}\n"
     ]
    },
    {
     "name": "stderr",
     "output_type": "stream",
     "text": [
      "100%|██████████████████████████████████████████| 10/10 [00:01<00:00,  6.59it/s]\n",
      " 10%|████▎                                      | 1/10 [00:00<00:01,  6.20it/s]"
     ]
    },
    {
     "name": "stdout",
     "output_type": "stream",
     "text": [
      "{'ner': 6.503447010848073e-09}\n"
     ]
    },
    {
     "name": "stderr",
     "output_type": "stream",
     "text": [
      "100%|██████████████████████████████████████████| 10/10 [00:01<00:00,  6.73it/s]"
     ]
    },
    {
     "name": "stdout",
     "output_type": "stream",
     "text": [
      "{'ner': 1.5266349195479588e-06}\n"
     ]
    },
    {
     "name": "stderr",
     "output_type": "stream",
     "text": [
      "\n"
     ]
    }
   ],
   "source": [
    "\n",
    "# add labels\n",
    "for _, annotations in TRAIN_DATA:\n",
    "    for ent in annotations.get('entities'):\n",
    "        ner.add_label(ent[2])\n",
    "\n",
    "    # get names of other pipes to disable them during training\n",
    "other_pipes = [pipe for pipe in nlp.pipe_names if pipe != 'ner']\n",
    "with nlp.disable_pipes(*other_pipes):  # only train NER\n",
    "    optimizer = nlp.begin_training()\n",
    "    for itn in range(n_iter):\n",
    "        random.shuffle(TRAIN_DATA)\n",
    "        losses = {}\n",
    "        for text, annotations in tqdm(TRAIN_DATA):\n",
    "            nlp.update(\n",
    "                [text],  # batch of texts\n",
    "                [annotations],  # batch of annotations\n",
    "                drop=0.5,  # dropout - make it harder to memorise data\n",
    "                sgd=optimizer,  # callable to update weights\n",
    "                losses=losses)\n",
    "        print(losses)"
   ]
  },
  {
   "cell_type": "code",
   "execution_count": 47,
   "metadata": {},
   "outputs": [
    {
     "name": "stdout",
     "output_type": "stream",
     "text": [
      "Entities []\n",
      "Tokens [('Contacts', '', 2), ('the', '', 2), ('Webservice', '', 2), ('server', '', 2), ('to', '', 2), ('download', '', 2), ('the', '', 2), ('latest', '', 2), ('Posture', '', 2)]\n",
      "Entities [('Windows', 'OS')]\n",
      "Tokens [('for', '', 2), ('supported', '', 2), ('Windows', 'OS', 3), ('operating', '', 2), ('systems', '', 2)]\n",
      "Entities [('AntiVirus', 'TECHNOLOGY')]\n",
      "Tokens [('AntiVirus', 'TECHNOLOGY', 3), ('performs', '', 2), ('following', '', 2), ('actions', '', 2), ('.', '', 2)]\n",
      "Entities [('ClearPassserver', 'SERVER')]\n",
      "Tokens [('The', '', 2), ('ClearPassserver', 'SERVER', 3), ('uses', '', 2), ('these', '', 2), ('updates', '', 2), ('to', '', 2), ('check', '', 2), ('.', '', 2)]\n",
      "Entities [('ClearPassserver', 'SERVER')]\n",
      "Tokens [('ClearPassserver', 'SERVER', 3), ('performs', '', 2), ('following', '', 2), ('operation', '', 2), ('.', '', 2)]\n",
      "Entities [('Windows', 'OS')]\n",
      "Tokens [('I', '', 2), ('use', '', 2), ('Windows', 'OS', 3), ('operating', '', 2), ('systems', '', 2)]\n",
      "Entities [('SNMP', 'PROTOCOL')]\n",
      "Tokens [('SNMP', 'PROTOCOL', 3), ('parameters', '', 2), ('can', '', 2), ('be', '', 2), ('used', '', 2), ('here', '', 2), ('.', '', 2)]\n",
      "Entities [('SNMP', 'PROTOCOL')]\n",
      "Tokens [('This', '', 2), ('allows', '', 2), ('to', '', 2), ('configure', '', 2), ('SNMP', 'PROTOCOL', 3), ('parameters', '', 2)]\n",
      "Entities [('AntiVirus', 'TECHNOLOGY')]\n",
      "Tokens [('These', '', 2), ('updates', '', 2), ('include', '', 2), ('AntiVirus', 'TECHNOLOGY', 3), ('version', '', 2), ('updates', '', 2), ('.', '', 2)]\n",
      "Entities [('Webserviceserver', 'SERVER')]\n",
      "Tokens [('Contacts', '', 2), ('the', '', 2), ('Webserviceserver', 'SERVER', 3), ('to', '', 2), ('download', '', 2), ('the', '', 2), ('latest', '', 2), ('Posture', '', 2)]\n"
     ]
    }
   ],
   "source": [
    "# test the trained model\n",
    "for text, _ in TRAIN_DATA:\n",
    "    doc = nlp(text)\n",
    "    print('Entities', [(ent.text, ent.label_) for ent in doc.ents])\n",
    "    print('Tokens', [(t.text, t.ent_type_, t.ent_iob) for t in doc])"
   ]
  },
  {
   "cell_type": "code",
   "execution_count": 48,
   "metadata": {},
   "outputs": [
    {
     "name": "stdout",
     "output_type": "stream",
     "text": [
      "Saved model to C:\\Users\\Admin\\Desktop\\HPE\\TEST\n"
     ]
    }
   ],
   "source": [
    "# save model to output directory\n",
    "if output_dir is not None:\n",
    "    output_dir = Path(output_dir)\n",
    "    if not output_dir.exists():\n",
    "        output_dir.mkdir()\n",
    "    nlp.to_disk(output_dir)\n",
    "    print(\"Saved model to\", output_dir)"
   ]
  },
  {
   "cell_type": "code",
   "execution_count": 49,
   "metadata": {
    "scrolled": true
   },
   "outputs": [
    {
     "name": "stdout",
     "output_type": "stream",
     "text": [
      "Loading from C:\\Users\\Admin\\Desktop\\HPE\\TEST\n",
      "Entities []\n",
      "Tokens [('Contacts', '', 2), ('the', '', 2), ('Webservice', '', 2), ('server', '', 2), ('to', '', 2), ('download', '', 2), ('the', '', 2), ('latest', '', 2), ('Posture', '', 2)]\n",
      "Entities [('Windows', 'OS')]\n",
      "Tokens [('for', '', 2), ('supported', '', 2), ('Windows', 'OS', 3), ('operating', '', 2), ('systems', '', 2)]\n",
      "Entities [('AntiVirus', 'TECHNOLOGY')]\n",
      "Tokens [('AntiVirus', 'TECHNOLOGY', 3), ('performs', '', 2), ('following', '', 2), ('actions', '', 2), ('.', '', 2)]\n",
      "Entities [('ClearPassserver', 'SERVER')]\n",
      "Tokens [('The', '', 2), ('ClearPassserver', 'SERVER', 3), ('uses', '', 2), ('these', '', 2), ('updates', '', 2), ('to', '', 2), ('check', '', 2), ('.', '', 2)]\n",
      "Entities [('ClearPassserver', 'SERVER')]\n",
      "Tokens [('ClearPassserver', 'SERVER', 3), ('performs', '', 2), ('following', '', 2), ('operation', '', 2), ('.', '', 2)]\n",
      "Entities [('Windows', 'OS')]\n",
      "Tokens [('I', '', 2), ('use', '', 2), ('Windows', 'OS', 3), ('operating', '', 2), ('systems', '', 2)]\n",
      "Entities [('SNMP', 'PROTOCOL')]\n",
      "Tokens [('SNMP', 'PROTOCOL', 3), ('parameters', '', 2), ('can', '', 2), ('be', '', 2), ('used', '', 2), ('here', '', 2), ('.', '', 2)]\n",
      "Entities [('SNMP', 'PROTOCOL')]\n",
      "Tokens [('This', '', 2), ('allows', '', 2), ('to', '', 2), ('configure', '', 2), ('SNMP', 'PROTOCOL', 3), ('parameters', '', 2)]\n",
      "Entities [('AntiVirus', 'TECHNOLOGY')]\n",
      "Tokens [('These', '', 2), ('updates', '', 2), ('include', '', 2), ('AntiVirus', 'TECHNOLOGY', 3), ('version', '', 2), ('updates', '', 2), ('.', '', 2)]\n",
      "Entities [('Webserviceserver', 'SERVER')]\n",
      "Tokens [('Contacts', '', 2), ('the', '', 2), ('Webserviceserver', 'SERVER', 3), ('to', '', 2), ('download', '', 2), ('the', '', 2), ('latest', '', 2), ('Posture', '', 2)]\n"
     ]
    }
   ],
   "source": [
    "# test the saved model\n",
    "print(\"Loading from\", output_dir)\n",
    "nlp2 = spacy.load(output_dir)\n",
    "for text, _ in TRAIN_DATA:\n",
    "    doc = nlp2(text)\n",
    "    print('Entities', [(ent.text, ent.label_) for ent in doc.ents])\n",
    "    print('Tokens', [(t.text, t.ent_type_, t.ent_iob) for t in doc])"
   ]
  },
  {
   "cell_type": "code",
   "execution_count": 65,
   "metadata": {},
   "outputs": [],
   "source": [
    "c=\"\"\"SNMP,NTP and Webserviceserver updates include AntiVirus and Windows Hotfixes for supported Windows operating systems. The\n",
    "ClearPassserver uses these updates to show a list of the available hotfixes in the AntiVirus health\n",
    "class.\"\"\""
   ]
  },
  {
   "cell_type": "code",
   "execution_count": 66,
   "metadata": {},
   "outputs": [
    {
     "name": "stdout",
     "output_type": "stream",
     "text": [
      "Loading from C:\\Users\\Admin\\Desktop\\HPE\\TEST\n",
      "Entities [('SNMP', 'PROTOCOL'), ('Webserviceserver', 'SERVER'), ('AntiVirus', 'TECHNOLOGY'), ('Windows', 'OS'), ('Windows', 'OS'), ('ClearPassserver', 'SERVER'), ('AntiVirus', 'TECHNOLOGY')]\n"
     ]
    }
   ],
   "source": [
    "# test the saved model\n",
    "print(\"Loading from\", output_dir)\n",
    "nlp2 = spacy.load(output_dir)\n",
    "#for text, _ in TRAIN_DATA:\n",
    "doc = nlp2(c)\n",
    "print('Entities', [(ent.text, ent.label_) for ent in doc.ents])\n",
    "#print('Tokens', [(t.text, t.ent_type_, t.ent_iob) for t in doc])\n",
    "data=[]\n",
    "for i in doc.ents:\n",
    "    info={'WORDS':i.text,'LABEL':i.label_}\n",
    "    data.append(info)"
   ]
  },
  {
   "cell_type": "code",
   "execution_count": 54,
   "metadata": {},
   "outputs": [],
   "source": [
    "import csv"
   ]
  },
  {
   "cell_type": "code",
   "execution_count": 57,
   "metadata": {},
   "outputs": [],
   "source": [
    "with open('kb1.csv',mode='w',newline='',encoding='utf8') as csv_file:\n",
    "    fieldnames=['WORDS','LABEL']\n",
    "    writer=csv.DictWriter(csv_file,fieldnames=fieldnames)\n",
    "    writer.writeheader()\n",
    "    for i in data:\n",
    "        writer.writerow(i)"
   ]
  },
  {
   "cell_type": "code",
   "execution_count": 58,
   "metadata": {},
   "outputs": [],
   "source": [
    "#dic={}\n",
    "words=[]\n",
    "labels=[]\n",
    "with open('kb1.csv',encoding='utf8') as csv_file:\n",
    "    content=csv.DictReader(csv_file)\n",
    "    for i in content:\n",
    "         words.append(i['WORDS'])\n",
    "         labels.append(i['LABEL'])"
   ]
  },
  {
   "cell_type": "code",
   "execution_count": 62,
   "metadata": {},
   "outputs": [
    {
     "name": "stdout",
     "output_type": "stream",
     "text": [
      "Ask me anything: are there any technologies used\n",
      "Yes\n",
      "have more questions? [yes=1|no=0]1\n",
      "Ask me anything: what are the technologies used\n",
      "{'ClearPassserver', 'Webserviceserver', 'SNMP', 'AntiVirus', 'Windows'}\n",
      "have more questions? [yes=1|no=0]0\n"
     ]
    }
   ],
   "source": [
    "words=set(words)\n",
    "def ans_query(q):\n",
    "    if q==\"are there any technologies used\":\n",
    "        if words:\n",
    "            print('Yes')\n",
    "        else:\n",
    "            print('No technology is used')\n",
    "    elif q==\"what are the technologies used\":\n",
    "        print(words)\n",
    "\n",
    "choice=1\n",
    "while choice:\n",
    "    query=input(\"Ask me anything: \")\n",
    "    ans_query(query)\n",
    "    choice=int(input(\"have more questions? [yes=1|no=0]\"))"
   ]
  },
  {
   "cell_type": "code",
   "execution_count": null,
   "metadata": {},
   "outputs": [],
   "source": []
  }
 ],
 "metadata": {
  "kernelspec": {
   "display_name": "Python 3",
   "language": "python",
   "name": "python3"
  },
  "language_info": {
   "codemirror_mode": {
    "name": "ipython",
    "version": 3
   },
   "file_extension": ".py",
   "mimetype": "text/x-python",
   "name": "python",
   "nbconvert_exporter": "python",
   "pygments_lexer": "ipython3",
   "version": "3.6.9"
  }
 },
 "nbformat": 4,
 "nbformat_minor": 2
}
